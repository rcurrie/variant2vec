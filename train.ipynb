{
 "cells": [
  {
   "cell_type": "markdown",
   "metadata": {},
   "source": [
    "# variant2vec\n",
    "\n",
    "Learn an emedding of variants annotations (HGVS, BIC etc...), Hugo gene symbols, and classifications (pathogenic, benign...) from the text of pubmed articles.\n",
    "\n",
    "Goal to see if something like [this](https://www.nature.com/articles/s41586-019-1335-8) paper can be applied to determine characteristics of a variant, or at lease identify the gene associated with the variant from the paper where multiple variants may be mentioned with no canonical gene or transcript qualifier."
   ]
  },
  {
   "cell_type": "code",
   "execution_count": 1,
   "metadata": {},
   "outputs": [
    {
     "name": "stdout",
     "output_type": "stream",
     "text": [
      "DEBUG: ON\n"
     ]
    }
   ],
   "source": [
    "import os\n",
    "import sys\n",
    "import re\n",
    "import sqlite3\n",
    "import pandas as pd\n",
    "import gzip\n",
    "import glob\n",
    "import datetime\n",
    "\n",
    "def log(text):\n",
    "    # Print to jupyter notebook and console so we can monitor progress in k8s\n",
    "    print(text)\n",
    "    sys.__stdout__.write(text + \"\\n\")\n",
    "    sys.__stdout__.flush()\n",
    "    \n",
    "# Syntatic sugar for debug vs. train parameters\n",
    "def debug(debug_param, no_debug_param):\n",
    "    return debug_param if os.environ.get(\"DEBUG\") == \"True\" else no_debug_param\n",
    "log(debug(\"DEBUG: ON\", \"DEBUG: OFF\"))\n",
    "\n",
    "crawl_path = \"/public/groups/brcaexchange/literature-search/crawl\""
   ]
  },
  {
   "cell_type": "markdown",
   "metadata": {},
   "source": [
    "## Ingest\n",
    "Load the text from the pubMunch [pubStore](https://github.com/maximilianh/pubMunch/blob/master/lib/pubStore.py) generated in a BRCA Exchange literature search crawl"
   ]
  },
  {
   "cell_type": "code",
   "execution_count": 2,
   "metadata": {},
   "outputs": [
    {
     "name": "stdout",
     "output_type": "stream",
     "text": [
      "15079 articles loaded from the articles sqlite database\n"
     ]
    },
    {
     "data": {
      "text/html": [
       "<div>\n",
       "<style scoped>\n",
       "    .dataframe tbody tr th:only-of-type {\n",
       "        vertical-align: middle;\n",
       "    }\n",
       "\n",
       "    .dataframe tbody tr th {\n",
       "        vertical-align: top;\n",
       "    }\n",
       "\n",
       "    .dataframe thead th {\n",
       "        text-align: right;\n",
       "    }\n",
       "</style>\n",
       "<table border=\"1\" class=\"dataframe\">\n",
       "  <thead>\n",
       "    <tr style=\"text-align: right;\">\n",
       "      <th></th>\n",
       "      <th>articleId</th>\n",
       "      <th>externalId</th>\n",
       "      <th>source</th>\n",
       "      <th>publisher</th>\n",
       "      <th>origFile</th>\n",
       "      <th>journal</th>\n",
       "      <th>printIssn</th>\n",
       "      <th>eIssn</th>\n",
       "      <th>journalUniqueId</th>\n",
       "      <th>year</th>\n",
       "      <th>...</th>\n",
       "      <th>issue</th>\n",
       "      <th>page</th>\n",
       "      <th>pmid</th>\n",
       "      <th>pmcId</th>\n",
       "      <th>doi</th>\n",
       "      <th>fulltextUrl</th>\n",
       "      <th>time</th>\n",
       "      <th>offset</th>\n",
       "      <th>size</th>\n",
       "      <th>chunkId</th>\n",
       "    </tr>\n",
       "  </thead>\n",
       "  <tbody>\n",
       "    <tr>\n",
       "      <th>0</th>\n",
       "      <td>5011585672</td>\n",
       "      <td>PMID11585672</td>\n",
       "      <td></td>\n",
       "      <td>download</td>\n",
       "      <td></td>\n",
       "      <td>Trends in genetics : TIG</td>\n",
       "      <td>0168-9525</td>\n",
       "      <td>0168-9525</td>\n",
       "      <td>8507085</td>\n",
       "      <td>2001</td>\n",
       "      <td>...</td>\n",
       "      <td>10</td>\n",
       "      <td>S18</td>\n",
       "      <td>11585672</td>\n",
       "      <td></td>\n",
       "      <td>10.1016/s0168-9525(01)02451-9</td>\n",
       "      <td>https://linkinghub.elsevier.com/retrieve/pii/S...</td>\n",
       "      <td>2018-11-14T16:29:09+0000</td>\n",
       "      <td>78</td>\n",
       "      <td>5258</td>\n",
       "      <td>0_00000</td>\n",
       "    </tr>\n",
       "    <tr>\n",
       "      <th>1</th>\n",
       "      <td>5019688261</td>\n",
       "      <td>PMID19688261</td>\n",
       "      <td></td>\n",
       "      <td>download</td>\n",
       "      <td></td>\n",
       "      <td>Breast cancer research and treatment</td>\n",
       "      <td>0167-6806</td>\n",
       "      <td>1573-7217</td>\n",
       "      <td>8111104</td>\n",
       "      <td>2010</td>\n",
       "      <td>...</td>\n",
       "      <td>3</td>\n",
       "      <td>575</td>\n",
       "      <td>19688261</td>\n",
       "      <td></td>\n",
       "      <td>10.1007/s10549-009-0501-3</td>\n",
       "      <td></td>\n",
       "      <td>2018-11-14T16:29:16+0000</td>\n",
       "      <td>5048</td>\n",
       "      <td>100825</td>\n",
       "      <td>0_00000</td>\n",
       "    </tr>\n",
       "    <tr>\n",
       "      <th>2</th>\n",
       "      <td>5012228710</td>\n",
       "      <td>PMID12228710</td>\n",
       "      <td></td>\n",
       "      <td>download</td>\n",
       "      <td></td>\n",
       "      <td>Science (New York, N.Y.)</td>\n",
       "      <td>0036-8075</td>\n",
       "      <td>1095-9203</td>\n",
       "      <td>0404511</td>\n",
       "      <td>2002</td>\n",
       "      <td>...</td>\n",
       "      <td>5588</td>\n",
       "      <td>1837</td>\n",
       "      <td>12228710</td>\n",
       "      <td></td>\n",
       "      <td>10.1126/science.297.5588.1837</td>\n",
       "      <td></td>\n",
       "      <td>2018-11-14T16:29:40+0000</td>\n",
       "      <td>1436851129</td>\n",
       "      <td>148950</td>\n",
       "      <td>0_00000</td>\n",
       "    </tr>\n",
       "    <tr>\n",
       "      <th>3</th>\n",
       "      <td>5029369605</td>\n",
       "      <td>PMID29369605</td>\n",
       "      <td></td>\n",
       "      <td>download</td>\n",
       "      <td></td>\n",
       "      <td>Genetika</td>\n",
       "      <td>0016-6758</td>\n",
       "      <td>0016-6758</td>\n",
       "      <td>0047354</td>\n",
       "      <td>2016</td>\n",
       "      <td>...</td>\n",
       "      <td>10</td>\n",
       "      <td>1215</td>\n",
       "      <td>29369605</td>\n",
       "      <td></td>\n",
       "      <td>10.1134/s102279541609012x</td>\n",
       "      <td>https://link.springer.com/article/10.1134%2FS1...</td>\n",
       "      <td>2018-11-14T16:30:43+0000</td>\n",
       "      <td>4458079378</td>\n",
       "      <td>22264</td>\n",
       "      <td>0_00000</td>\n",
       "    </tr>\n",
       "    <tr>\n",
       "      <th>4</th>\n",
       "      <td>5022084640</td>\n",
       "      <td>PMID22084640</td>\n",
       "      <td></td>\n",
       "      <td>download</td>\n",
       "      <td></td>\n",
       "      <td>Therapeutic advances in medical oncology</td>\n",
       "      <td>1758-8340</td>\n",
       "      <td>1758-8359</td>\n",
       "      <td>101510808</td>\n",
       "      <td>2011</td>\n",
       "      <td>...</td>\n",
       "      <td>6</td>\n",
       "      <td>257</td>\n",
       "      <td>22084640</td>\n",
       "      <td>3210467</td>\n",
       "      <td>10.1177/1758834011417039</td>\n",
       "      <td></td>\n",
       "      <td>2018-11-14T16:30:58+0000</td>\n",
       "      <td>6079002966</td>\n",
       "      <td>93229</td>\n",
       "      <td>0_00000</td>\n",
       "    </tr>\n",
       "  </tbody>\n",
       "</table>\n",
       "<p>5 rows × 30 columns</p>\n",
       "</div>"
      ],
      "text/plain": [
       "    articleId    externalId source publisher origFile  \\\n",
       "0  5011585672  PMID11585672         download            \n",
       "1  5019688261  PMID19688261         download            \n",
       "2  5012228710  PMID12228710         download            \n",
       "3  5029369605  PMID29369605         download            \n",
       "4  5022084640  PMID22084640         download            \n",
       "\n",
       "                                    journal  printIssn      eIssn  \\\n",
       "0                  Trends in genetics : TIG  0168-9525  0168-9525   \n",
       "1      Breast cancer research and treatment  0167-6806  1573-7217   \n",
       "2                  Science (New York, N.Y.)  0036-8075  1095-9203   \n",
       "3                                  Genetika  0016-6758  0016-6758   \n",
       "4  Therapeutic advances in medical oncology  1758-8340  1758-8359   \n",
       "\n",
       "  journalUniqueId  year  ... issue  page      pmid    pmcId  \\\n",
       "0         8507085  2001  ...    10   S18  11585672            \n",
       "1         8111104  2010  ...     3   575  19688261            \n",
       "2         0404511  2002  ...  5588  1837  12228710            \n",
       "3         0047354  2016  ...    10  1215  29369605            \n",
       "4       101510808  2011  ...     6   257  22084640  3210467   \n",
       "\n",
       "                             doi  \\\n",
       "0  10.1016/s0168-9525(01)02451-9   \n",
       "1      10.1007/s10549-009-0501-3   \n",
       "2  10.1126/science.297.5588.1837   \n",
       "3      10.1134/s102279541609012x   \n",
       "4       10.1177/1758834011417039   \n",
       "\n",
       "                                         fulltextUrl  \\\n",
       "0  https://linkinghub.elsevier.com/retrieve/pii/S...   \n",
       "1                                                      \n",
       "2                                                      \n",
       "3  https://link.springer.com/article/10.1134%2FS1...   \n",
       "4                                                      \n",
       "\n",
       "                       time      offset    size  chunkId  \n",
       "0  2018-11-14T16:29:09+0000          78    5258  0_00000  \n",
       "1  2018-11-14T16:29:16+0000        5048  100825  0_00000  \n",
       "2  2018-11-14T16:29:40+0000  1436851129  148950  0_00000  \n",
       "3  2018-11-14T16:30:43+0000  4458079378   22264  0_00000  \n",
       "4  2018-11-14T16:30:58+0000  6079002966   93229  0_00000  \n",
       "\n",
       "[5 rows x 30 columns]"
      ]
     },
     "execution_count": 2,
     "metadata": {},
     "output_type": "execute_result"
    }
   ],
   "source": [
    "connection = sqlite3.connect(f\"file:{crawl_path}/text/articles.db?mode=ro\", uri=True)\n",
    "articles = pd.read_sql_query(\"SELECT * FROM articles\", connection)\n",
    "articles.pmid = articles.pmid.astype(str)\n",
    "print(\"{} articles loaded from the articles sqlite database\".format(articles.shape[0]))\n",
    "articles.head()"
   ]
  },
  {
   "cell_type": "code",
   "execution_count": 3,
   "metadata": {},
   "outputs": [
    {
     "name": "stdout",
     "output_type": "stream",
     "text": [
      "28938 article text blocks consuming 2.43 megabytes\n",
      "CPU times: user 28 s, sys: 2.87 s, total: 30.8 s\n",
      "Wall time: 31.4 s\n"
     ]
    }
   ],
   "source": [
    "%%time\n",
    "log(\"Loading documents...\")\n",
    "articles = pd.DataFrame()\n",
    "for path in glob.glob(f\"{crawl_path}/text/*.files.gz\"):\n",
    "    articles = articles.append(pd.read_csv(path, sep=\"\\t\", encoding=\"utf-8\"))\n",
    "    \n",
    "print(\"{} article text blocks consuming {:.2f} megabytes\".format(\n",
    "    articles.shape[0], articles.memory_usage(index=True).sum() / 2**20))"
   ]
  },
  {
   "cell_type": "code",
   "execution_count": 4,
   "metadata": {},
   "outputs": [
    {
     "data": {
      "text/html": [
       "<div>\n",
       "<style scoped>\n",
       "    .dataframe tbody tr th:only-of-type {\n",
       "        vertical-align: middle;\n",
       "    }\n",
       "\n",
       "    .dataframe tbody tr th {\n",
       "        vertical-align: top;\n",
       "    }\n",
       "\n",
       "    .dataframe thead th {\n",
       "        text-align: right;\n",
       "    }\n",
       "</style>\n",
       "<table border=\"1\" class=\"dataframe\">\n",
       "  <thead>\n",
       "    <tr style=\"text-align: right;\">\n",
       "      <th></th>\n",
       "      <th>#fileId</th>\n",
       "      <th>externalId</th>\n",
       "      <th>articleId</th>\n",
       "      <th>url</th>\n",
       "      <th>desc</th>\n",
       "      <th>fileType</th>\n",
       "      <th>time</th>\n",
       "      <th>mimeType</th>\n",
       "      <th>locFname</th>\n",
       "      <th>content</th>\n",
       "    </tr>\n",
       "  </thead>\n",
       "  <tbody>\n",
       "    <tr>\n",
       "      <th>0</th>\n",
       "      <td>5011585672001</td>\n",
       "      <td>PMID11585672</td>\n",
       "      <td>5011585672</td>\n",
       "      <td>https://api.elsevier.com/content/article/pii/S...</td>\n",
       "      <td>supplemental file (.pdf)</td>\n",
       "      <td>main.pdf</td>\n",
       "      <td>2018-11-20T17:13:51+0000</td>\n",
       "      <td>application/pdf</td>\n",
       "      <td>/crawl/download/files/11585672.main.pdf</td>\n",
       "      <td>Review\u0007\u0007|\u0007\u0007A TRENDS Guide to Mouse Models of H...</td>\n",
       "    </tr>\n",
       "    <tr>\n",
       "      <th>1</th>\n",
       "      <td>5019688261001</td>\n",
       "      <td>PMID19688261</td>\n",
       "      <td>5019688261</td>\n",
       "      <td>https://link.springer.com/article/10.1007/s105...</td>\n",
       "      <td>supplemental file (.html)</td>\n",
       "      <td>main.html</td>\n",
       "      <td>2018-11-20T17:13:51+0000</td>\n",
       "      <td>text/html</td>\n",
       "      <td>/crawl/download/files/19688261.main.html</td>\n",
       "      <td>Breast Cancer Research and Treatment\u0007\u0007June 201...</td>\n",
       "    </tr>\n",
       "    <tr>\n",
       "      <th>2</th>\n",
       "      <td>5019688261002</td>\n",
       "      <td>PMID19688261</td>\n",
       "      <td>5019688261</td>\n",
       "      <td>https://link.springer.com/content/pdf/10.1007%...</td>\n",
       "      <td>supplemental file (.pdf)</td>\n",
       "      <td>main.pdf</td>\n",
       "      <td>2018-11-20T17:13:51+0000</td>\n",
       "      <td>application/pdf</td>\n",
       "      <td>/crawl/download/files/19688261.main.pdf</td>\n",
       "      <td>PRECLINICAL STUDY\u0007An integrative genomic and t...</td>\n",
       "    </tr>\n",
       "    <tr>\n",
       "      <th>3</th>\n",
       "      <td>5012228710001</td>\n",
       "      <td>PMID12228710</td>\n",
       "      <td>5012228710</td>\n",
       "      <td>http://science.sciencemag.org/content/297/5588...</td>\n",
       "      <td>supplemental file (.html)</td>\n",
       "      <td>main.html</td>\n",
       "      <td>2018-11-20T17:13:51+0000</td>\n",
       "      <td>text/html</td>\n",
       "      <td>/crawl/download/files/12228710.main.html</td>\n",
       "      <td>Skip to main content\u0007\u0007Science Logo\u0007\u0007  * Home\u0007 ...</td>\n",
       "    </tr>\n",
       "    <tr>\n",
       "      <th>4</th>\n",
       "      <td>5012228710002</td>\n",
       "      <td>PMID12228710</td>\n",
       "      <td>5012228710</td>\n",
       "      <td>http://science.sciencemag.org/content/sci/297/...</td>\n",
       "      <td>supplemental file (.pdf)</td>\n",
       "      <td>main.pdf</td>\n",
       "      <td>2018-11-20T17:13:51+0000</td>\n",
       "      <td>application/pdf</td>\n",
       "      <td>/crawl/download/files/12228710.main.pdf</td>\n",
       "      <td>RESEARCH ARTICLES\u0007\u0007References and Notes\u0007\u00071. S....</td>\n",
       "    </tr>\n",
       "  </tbody>\n",
       "</table>\n",
       "</div>"
      ],
      "text/plain": [
       "         #fileId    externalId   articleId  \\\n",
       "0  5011585672001  PMID11585672  5011585672   \n",
       "1  5019688261001  PMID19688261  5019688261   \n",
       "2  5019688261002  PMID19688261  5019688261   \n",
       "3  5012228710001  PMID12228710  5012228710   \n",
       "4  5012228710002  PMID12228710  5012228710   \n",
       "\n",
       "                                                 url  \\\n",
       "0  https://api.elsevier.com/content/article/pii/S...   \n",
       "1  https://link.springer.com/article/10.1007/s105...   \n",
       "2  https://link.springer.com/content/pdf/10.1007%...   \n",
       "3  http://science.sciencemag.org/content/297/5588...   \n",
       "4  http://science.sciencemag.org/content/sci/297/...   \n",
       "\n",
       "                        desc   fileType                      time  \\\n",
       "0   supplemental file (.pdf)   main.pdf  2018-11-20T17:13:51+0000   \n",
       "1  supplemental file (.html)  main.html  2018-11-20T17:13:51+0000   \n",
       "2   supplemental file (.pdf)   main.pdf  2018-11-20T17:13:51+0000   \n",
       "3  supplemental file (.html)  main.html  2018-11-20T17:13:51+0000   \n",
       "4   supplemental file (.pdf)   main.pdf  2018-11-20T17:13:51+0000   \n",
       "\n",
       "          mimeType                                  locFname  \\\n",
       "0  application/pdf   /crawl/download/files/11585672.main.pdf   \n",
       "1        text/html  /crawl/download/files/19688261.main.html   \n",
       "2  application/pdf   /crawl/download/files/19688261.main.pdf   \n",
       "3        text/html  /crawl/download/files/12228710.main.html   \n",
       "4  application/pdf   /crawl/download/files/12228710.main.pdf   \n",
       "\n",
       "                                             content  \n",
       "0  Review\u0007\u0007|\u0007\u0007A TRENDS Guide to Mouse Models of H...  \n",
       "1  Breast Cancer Research and Treatment\u0007\u0007June 201...  \n",
       "2  PRECLINICAL STUDY\u0007An integrative genomic and t...  \n",
       "3  Skip to main content\u0007\u0007Science Logo\u0007\u0007  * Home\u0007 ...  \n",
       "4  RESEARCH ARTICLES\u0007\u0007References and Notes\u0007\u00071. S....  "
      ]
     },
     "execution_count": 4,
     "metadata": {},
     "output_type": "execute_result"
    }
   ],
   "source": [
    "articles.head()"
   ]
  },
  {
   "cell_type": "code",
   "execution_count": 5,
   "metadata": {},
   "outputs": [
    {
     "name": "stdout",
     "output_type": "stream",
     "text": [
      "Found 6460 variants\n",
      "CPU times: user 7.32 s, sys: 373 ms, total: 7.69 s\n",
      "Wall time: 7.69 s\n"
     ]
    }
   ],
   "source": [
    "%%time\n",
    "variants = set()\n",
    "pattern = re.compile(\"c\\.\\d+[atcgATCG]+>[atcgATCG]+\")\n",
    "for article in articles.itertuples():\n",
    "    variants = variants.union(set(re.findall(pattern, article.content)))\n",
    "print(\"Found {} variants\".format(len(variants)))"
   ]
  },
  {
   "cell_type": "markdown",
   "metadata": {},
   "source": [
    "## Clean\n",
    "https://machinelearningmastery.com/clean-text-machine-learning-python/"
   ]
  },
  {
   "cell_type": "code",
   "execution_count": 6,
   "metadata": {},
   "outputs": [
    {
     "name": "stderr",
     "output_type": "stream",
     "text": [
      "[nltk_data] Downloading package stopwords to /tf/nltk_data...\n",
      "[nltk_data]   Package stopwords is already up-to-date!\n"
     ]
    }
   ],
   "source": [
    "!pip3 install --user --upgrade --quiet unidecode\n",
    "import unidecode\n",
    "\n",
    "!pip3 install --user --upgrade --quiet nltk\n",
    "import nltk\n",
    "import nltk.tokenize\n",
    "import nltk.stem.porter\n",
    "\n",
    "nltk.download(\"stopwords\")\n",
    "stop_words = nltk.corpus.stopwords.words('english')\n",
    "\n",
    "stemmer = nltk.stem.porter.PorterStemmer()"
   ]
  },
  {
   "cell_type": "code",
   "execution_count": 7,
   "metadata": {},
   "outputs": [
    {
     "name": "stdout",
     "output_type": "stream",
     "text": [
      "['cancer:', 'breast', 'introduct', 'genet', 'test', 'famili', 'multipl', 'case', 'breast', 'and/or', 'ovarian', 'cancer', 'often', 'target', 'youngest', 'affect', 'woman', 'index', 'case', 'family.', 'clinic', 'genet', 'test', 'context', 'larg', 'limit', 'brca1', 'brca2', 'gene', 'unless', 'addit', 'indic', 'present', 'recently.', 'women', 'breast', 'cancer', 'test', 'uninform', 'identifi', 'clearli', 'pathogen', 'mutat', 'either', 'gene.1', 'mani', 'put', 'breast', 'cancer', 'suscept', 'gene', 'identifi', 'vari', 'level', 'evid', 'associ', 'breast', 'cancer.', 'today', 'diagnost', 'test', 'facil', 'includ', 'larg', 'number', 'gene', 'singl', 'panel', 'test', 'use', 'massiv', 'parallel', 'next', 'gener', 'sequenc', 'consider', 'reduc', 'cost.', 'howev', 'gene', 'panel', 'test', 'pose', 'consider', 'challeng', 'clinic', 'genet', 'servic', 'mani', 'gene', 'valid', 'breast', 'cancer', 'suscept', 'gene', 'even', 'risk', 'associ', 'differ', 'type', 'mutat', 'poorli', 'defined.2', 'test', 'use', 'estim', 'reduct', 'risk', 'mutat', 'carrier', 'known', 'estim', 'risk', 'cancer', 'non-mut', 'carrier', 'family.', 'gene', 'current', 'includ', 'commerci', 'breast', 'cancer', 'suscept', 'gene', 'panel', 'addit', 'brca1', 'brca2', 'vari', 'laboratori', 'compani', 'rang', 'reason', 'well-characteris', 'breast', 'cancer', 'predisposit', 'gene', 'tp53', 'palb2', 'chek2', 'cdh1', 'pten', 'stk11', 'recur', 'mutat', 'nbn3', 'gene', 'limit', 'evid', 'mutat', 'confer', 'elev', 'breast', 'cancer', 'risk', 'bard1', 'brip1', 'mre11', 'rad50', 'rad51c', 'rad51d', 'cdkn2a', 'xrcc2', 'gene', 'select', 'panel', 'appear', 'driven', 'commerci', 'interest', 'rather', 'strength', 'evid', 'role', 'breast', 'cancer', 'susceptibility.', 'vital', 'verifi', 'brea']\n"
     ]
    }
   ],
   "source": [
    "log(\"Cleaning...\")\n",
    "word_regex = re.compile(\"\\s+|[,\\(\\)]\")\n",
    "\n",
    "def clean(text):\n",
    "    # Convert to ascii and replace returns with spaces and lower case\n",
    "    text = re.sub(r\"[\\x07]+\", ' ', unidecode.unidecode(text)).lower()\n",
    "    \n",
    "    # split into words\n",
    "#     words = nltk.tokenize.word_tokenize(text)\n",
    "    \n",
    "    words = word_regex.split(text)\n",
    "    \n",
    "    # Drop all single character words and stop words - effectively removes punctuation\n",
    "    words = [w for w in words if len(w) > 3 and w not in stop_words]\n",
    "    \n",
    "    # Stem (lowercase's as a side affect as well)\n",
    "    words = [stemmer.stem(w) for w in words]\n",
    "    \n",
    "    return words\n",
    "\n",
    "print(clean(articles.iloc[42].content[0:2000]))"
   ]
  },
  {
   "cell_type": "code",
   "execution_count": 8,
   "metadata": {},
   "outputs": [
    {
     "name": "stdout",
     "output_type": "stream",
     "text": [
      "Cleaned 290 texts\n",
      "CPU times: user 37.5 s, sys: 966 ms, total: 38.5 s\n",
      "Wall time: 38.5 s\n"
     ]
    }
   ],
   "source": [
    "%%time\n",
    "texts = [clean(article.content) for article in articles.iloc[0:None:debug(100,None)].itertuples()]\n",
    "print(\"Cleaned {} texts\".format(len(texts)))"
   ]
  },
  {
   "cell_type": "code",
   "execution_count": 9,
   "metadata": {},
   "outputs": [
    {
     "name": "stdout",
     "output_type": "stream",
     "text": [
      "Before:\n",
      "PRECLINICAL STUDY\u0007An integrative genomic and transcriptomic analysis reveals\u0007molecular pathways and networks regulated by copy number\u0007aberrations in basal-like, HER2 and luminal cancers\u0007Rachael Natrajan Æ Britta Weigelt Æ Alan Mackay Æ Felipe C. Geyer Æ\u0007Anita Grigoriadis Æ David S. P. Tan Æ Chris Jones Æ Christopher J. Lord Æ\u0007Radost Vatcheva Æ Socorro M. Rodriguez-Pinilla Æ Jose Palacios Æ\u0007Alan Ashworth Æ Jorge S. Reis-Filho\u0007Received: 24 July 2009 / Accepted: 28 July 2009 / Published online: 18 August 2009\u0007  Springer Science+Business Media, LLC. 2009\u0007Abstract Breast cancer is a heterogeneous disease\u0007caused by the accumulation of genetic changes in neo-\u0007plastic cells. We hypothesised that molecular subtypes of\u0007breast cancer may be driven by specific constellations of\u0007genes whose expression is regulated by gene copy\u0007number aberrations. To address this question, we ana-\u0007lysed a series of 48 microdissected grade III ductal\u0007carcinomas using high resolution microarray comparative\u0007genomic hybridisation and mRNA expression arrays.\u0007There were 5,931 genes whose expression significantly\u0007correlates with copy number identified; out of these,\u00071,897 genes were significantly differentially expressed\u0007between basal-like, HER2 and luminal tumours. Inge-\u0007nuity Pathway Analysis (IPA) revealed that ‘G1/S cell\u0007cycle regulation’ and ‘BRCA1 in DNA damage control’\u0007pathways were significantly enriched for genes whose\u0007expression correlates with copy number and are differ-\u0007entially expressed between the molecular subtypes of\u0007breast cancer. IPA of genes whose expression signifi-\u0007cantly correlates with copy number in each molecular\u0007subtype individually revealed that canonical pathways\u0007involved in oestrogen receptor (ER) signalling and DNA\u0007repair are enriched for these genes. We also identified\u000732, 157 and 265 genes significantly overexpressed when\u0007amplified in basal-like, HER2 and luminal cancers,\u0007respectively. These lists include known and novel\u0007potential therapeutic targets (e.g. HER2 and PPM1D\n",
      "After:\n",
      "['cancer', 'letter', '2001', '87+-94', 'www.elsevier.com/locate/canlet', 'germlin', 'brca1', 'mutat', 'iranian', 'women', 'breast', 'cancer', 'ghaderi', 'talei', 'farjadian', 'mosalaei', 'doroudchi', 'kimura', 'depart', 'immunolog', 'medic', 'school', 'shiraz', 'univers', 'medic', 'scienc', 'p.o.', '71345-1798', 'shiraz', 'iran', 'depart', 'surgeri', 'shiraz', 'univers', 'medic', 'scienc', 'shiraz', 'iran', 'depart', 'radiat', 'therapi', 'shiraz', 'univers', 'medic', 'scienc', 'shiraz', 'iran', 'depart', 'forens', 'medicin', 'kurum', 'univers', 'kurum', 'japan', 'receiv', 'novemb', '2000;', 'receiv', 'revis', 'form', 'januari', '2001;', 'accept', 'januari', '2001', 'abstract', 'brca1', 'known', 'famili', 'earli', 'onset', 'breast', 'cancer', 'gene', 'locat', 'long', 'chromosom', 'alter', 'gene', 'report', 'differ', 'popul', 'population-speci', 'mutat', 'show', 'founder', 'effect.', 'studi', 'report', 'genet', 'test', 'iranian', 'women', 'exon-2', 'brca1', 'gene', 'sequenc', 'iranian', 'breast', 'cancer', 'patient', 'none', 'patient', 'show', '185del', 'mutat', 'chang', 'sequenc', 'exon.', 'among', 'popul', 'patient', 'kind', 'tumor', 'rst-degre', 'rel', 'select', 'entir', 'brca1', 'gene', 'code', 'region', 'sequenc', 'direct', 'pcr-sequencing.', 'novel', 'point', 'mutat', 'exon-16', 'unknown', 'signi', 'canc', 'observ', 'among', 'breast', 'cancer', 'patient', 'control', 'subjects.', 'mutat', 'caus', 'substitut', 'glutamin', '1612', 'glycin', 'allel', 'frequenc', '38.6', '52.8%', 'patient', 'control', 'respectively.', 'addit', 'point', 'mutat', 'exon-15', 'eight', 'polymorph', 'alter', 'detect', 'report', 'previously.', 'three', 'polymorph', 'site', 'place', 'intron', 'part', 'gene.', 'understand', 'signi', 'canc', 'contribut', 'brca1', 'gene', 'breast', 'cancer', 'among', 'iranian', 'investig', 'needed.', '2001', 'elsevi', 'scienc', 'ireland', 'ltd.', 'right', 'reserved.', 'keywords:', 'brca1;', 'breast', 'cancer;', '185del', 'mutation;', 'iranian;', 'polymorph', 'introduct', 'brca1', 'known', 'potenti', 'tumor', 'suppressor', 'gene', 'length', 'approxim', 'locat', 'long', 'chromosom', 'made', 'exon', 'code', 'polypeptid', '1863', 'amino', 'acid', 'residu', '[1].', 'zinc', 'nger', 'motif', 'encod', 'exon', 'respons', 'transcript', 'activ', 'genes.', 'middl', 'part', 'protein', 'encod', 'exon-11', 'correspond', 'author.', 'tel.:', '198-71-334589;', 'fax:', '198-71334589.', 'e-mail', 'address:', 'immunol@sums.ac.ir', 'ghaderi', 'interact', 'rad51', 'molecul', 'human', 'counterpart', 'bacteri', 'reca', 'protein', '[2].']\n"
     ]
    }
   ],
   "source": [
    "print(\"Before:\")\n",
    "print(articles.iloc[2].content[0:2000])\n",
    "\n",
    "print(\"After:\")\n",
    "print(texts[2][0:250])"
   ]
  },
  {
   "cell_type": "markdown",
   "metadata": {},
   "source": [
    "## Train\n",
    "\n",
    "References:\n",
    "\n",
    "https://radimrehurek.com/gensim/tut1.html\n",
    "\n",
    "https://machinelearningmastery.com/develop-word-embeddings-python-gensim/"
   ]
  },
  {
   "cell_type": "code",
   "execution_count": 10,
   "metadata": {},
   "outputs": [],
   "source": [
    "!pip3 install --user --upgrade --quiet gensim\n",
    "\n",
    "import gensim\n",
    "import gensim.models"
   ]
  },
  {
   "cell_type": "code",
   "execution_count": 11,
   "metadata": {},
   "outputs": [],
   "source": [
    "# model = gensim.models.Word2Vec(documents, size=150, window=10, min_count=2, workers=10, iter=10)\n",
    "log(\"Training...\")\n",
    "model = gensim.models.Word2Vec(texts, max_vocab_size=5000)"
   ]
  },
  {
   "cell_type": "code",
   "execution_count": 12,
   "metadata": {},
   "outputs": [
    {
     "name": "stdout",
     "output_type": "stream",
     "text": [
      "Training run at 20190913-145341\n",
      "/tf/data/variante2vec/debug.model\n"
     ]
    }
   ],
   "source": [
    "# Timestamp for output files\n",
    "log(\"Saving...\")\n",
    "timestamp = datetime.datetime.now().strftime(\"%Y%m%d-%H%M%S\")\n",
    "print(\"Training run at {}\".format(timestamp))\n",
    "\n",
    "path = os.path.expanduser(\"~/data/variante2vec/{}.model\").format(debug(\"debug\", timestamp))\n",
    "print(\"Saved to:\",path)\n",
    "\n",
    "model.save(path)\n",
    "model = gensim.models.Word2Vec.load(path)"
   ]
  }
 ],
 "metadata": {
  "kernelspec": {
   "display_name": "Python 3",
   "language": "python",
   "name": "python3"
  },
  "language_info": {
   "codemirror_mode": {
    "name": "ipython",
    "version": 3
   },
   "file_extension": ".py",
   "mimetype": "text/x-python",
   "name": "python",
   "nbconvert_exporter": "python",
   "pygments_lexer": "ipython3",
   "version": "3.6.7"
  }
 },
 "nbformat": 4,
 "nbformat_minor": 2
}
